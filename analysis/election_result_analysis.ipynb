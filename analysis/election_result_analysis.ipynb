{
 "cells": [
  {
   "cell_type": "code",
   "execution_count": 7,
   "metadata": {},
   "outputs": [],
   "source": [
    "import numpy as np\n",
    "import pandas as pd\n",
    "import matplotlib\n",
    "import seaborn as "
   ]
  },
  {
   "cell_type": "code",
   "execution_count": 2,
   "metadata": {},
   "outputs": [
    {
     "data": {
      "text/plain": [
       "\"\\n1. I predict that being incumbent (being president at the time of the election) would have a correlation with an increase of electoral votes earned\\n2. Having a higher percentage in the popular vote probably means a higher percentage in the electoral vote.\\n3. Being from one of the major parties (democrat, republican, or whatever was the dominant party at the time) probably means more votes.\\n4. If this is not the canadites first time running, they will get more votes.\\n5. Canadites from certain states will receive more votes than those from other states. \\n6. Canadites from certain parties were likely to receive less votes. \\n7. The year of the election affects the number of votes in the popular vote. \\n8. The most common name for winning presidents was John.\\n9. The percentage of electoral votes goes up when the number of electoral votes is higher.\\n10. The abbreviation of the canadite's party depends on the party that they are in.\\n(As you can tell, I ran out of ideas)\\n\""
      ]
     },
     "execution_count": 2,
     "metadata": {},
     "output_type": "execute_result"
    }
   ],
   "source": [
    "\n",
    "\"\"\"\n",
    "1. I predict that being incumbent (being president at the time of the election) would have a correlation with an increase of electoral votes earned\n",
    "2. Having a higher percentage in the popular vote probably means a higher percentage in the electoral vote.\n",
    "3. Being from one of the major parties (democrat, republican, or whatever was the dominant party at the time) probably means more votes.\n",
    "4. If this is not the canadites first time running, they will get more votes.\n",
    "5. Canadites from certain states will receive more votes than those from other states. \n",
    "6. Canadites from certain parties were likely to receive less votes. \n",
    "7. The year of the election affects the number of votes in the popular vote. \n",
    "8. The most common name for winning presidents was John.\n",
    "9. The percentage of electoral votes goes up when the number of electoral votes is higher.\n",
    "10. The abbreviation of the canadite's party depends on the party that they are in.\n",
    "(As you can tell, I ran out of ideas)\n",
    "\"\"\""
   ]
  },
  {
   "cell_type": "code",
   "execution_count": 3,
   "metadata": {},
   "outputs": [
    {
     "data": {
      "text/html": [
       "<div>\n",
       "<style scoped>\n",
       "    .dataframe tbody tr th:only-of-type {\n",
       "        vertical-align: middle;\n",
       "    }\n",
       "\n",
       "    .dataframe tbody tr th {\n",
       "        vertical-align: top;\n",
       "    }\n",
       "\n",
       "    .dataframe thead th {\n",
       "        text-align: right;\n",
       "    }\n",
       "</style>\n",
       "<table border=\"1\" class=\"dataframe\">\n",
       "  <thead>\n",
       "    <tr style=\"text-align: right;\">\n",
       "      <th></th>\n",
       "      <th>ElectionYear</th>\n",
       "      <th>CandidateName</th>\n",
       "      <th>HomeState</th>\n",
       "      <th>Incumbent?</th>\n",
       "      <th>CandParty</th>\n",
       "      <th>CandPartyAbbrev</th>\n",
       "      <th>PopularVote</th>\n",
       "      <th>PopVoteShare</th>\n",
       "      <th>ElectoralVotes</th>\n",
       "      <th>ElecVoteShare</th>\n",
       "    </tr>\n",
       "  </thead>\n",
       "  <tbody>\n",
       "    <tr>\n",
       "      <th>0</th>\n",
       "      <td>1788</td>\n",
       "      <td>George Washington</td>\n",
       "      <td>Virginia</td>\n",
       "      <td>N</td>\n",
       "      <td>Independent</td>\n",
       "      <td>I</td>\n",
       "      <td>39,624</td>\n",
       "      <td>100.0</td>\n",
       "      <td>69</td>\n",
       "      <td>100.00</td>\n",
       "    </tr>\n",
       "    <tr>\n",
       "      <th>1</th>\n",
       "      <td>1788</td>\n",
       "      <td>John Adams</td>\n",
       "      <td>Massachusetts</td>\n",
       "      <td>N</td>\n",
       "      <td>Federalist</td>\n",
       "      <td>F</td>\n",
       "      <td>0</td>\n",
       "      <td>0.0</td>\n",
       "      <td>34</td>\n",
       "      <td>49.28</td>\n",
       "    </tr>\n",
       "    <tr>\n",
       "      <th>2</th>\n",
       "      <td>1788</td>\n",
       "      <td>John Jay</td>\n",
       "      <td>New York</td>\n",
       "      <td>N</td>\n",
       "      <td>Federalist</td>\n",
       "      <td>F</td>\n",
       "      <td>0</td>\n",
       "      <td>0.0</td>\n",
       "      <td>9</td>\n",
       "      <td>13.04</td>\n",
       "    </tr>\n",
       "    <tr>\n",
       "      <th>3</th>\n",
       "      <td>1788</td>\n",
       "      <td>Robert H. Harrison</td>\n",
       "      <td>Maryland</td>\n",
       "      <td>N</td>\n",
       "      <td>Federalist</td>\n",
       "      <td>F</td>\n",
       "      <td>0</td>\n",
       "      <td>0.0</td>\n",
       "      <td>6</td>\n",
       "      <td>8.70</td>\n",
       "    </tr>\n",
       "    <tr>\n",
       "      <th>4</th>\n",
       "      <td>1788</td>\n",
       "      <td>John Rutledge</td>\n",
       "      <td>South Carolina</td>\n",
       "      <td>N</td>\n",
       "      <td>Federalist</td>\n",
       "      <td>F</td>\n",
       "      <td>0</td>\n",
       "      <td>0.0</td>\n",
       "      <td>6</td>\n",
       "      <td>8.70</td>\n",
       "    </tr>\n",
       "    <tr>\n",
       "      <th>5</th>\n",
       "      <td>1788</td>\n",
       "      <td>John Hancock</td>\n",
       "      <td>Massachusetts</td>\n",
       "      <td>N</td>\n",
       "      <td>Federalist</td>\n",
       "      <td>F</td>\n",
       "      <td>0</td>\n",
       "      <td>0.0</td>\n",
       "      <td>4</td>\n",
       "      <td>5.80</td>\n",
       "    </tr>\n",
       "    <tr>\n",
       "      <th>6</th>\n",
       "      <td>1788</td>\n",
       "      <td>George Clinton</td>\n",
       "      <td>New York</td>\n",
       "      <td>N</td>\n",
       "      <td>Anti-Federalist</td>\n",
       "      <td>AF</td>\n",
       "      <td>0</td>\n",
       "      <td>0.0</td>\n",
       "      <td>3</td>\n",
       "      <td>4.35</td>\n",
       "    </tr>\n",
       "    <tr>\n",
       "      <th>7</th>\n",
       "      <td>1788</td>\n",
       "      <td>Samuel Huntington</td>\n",
       "      <td>Connecticut</td>\n",
       "      <td>N</td>\n",
       "      <td>Federalist</td>\n",
       "      <td>F</td>\n",
       "      <td>0</td>\n",
       "      <td>0.0</td>\n",
       "      <td>2</td>\n",
       "      <td>2.90</td>\n",
       "    </tr>\n",
       "    <tr>\n",
       "      <th>8</th>\n",
       "      <td>1788</td>\n",
       "      <td>John Milton</td>\n",
       "      <td>Georgia</td>\n",
       "      <td>N</td>\n",
       "      <td>Federalist</td>\n",
       "      <td>F</td>\n",
       "      <td>0</td>\n",
       "      <td>0.0</td>\n",
       "      <td>2</td>\n",
       "      <td>2.90</td>\n",
       "    </tr>\n",
       "    <tr>\n",
       "      <th>9</th>\n",
       "      <td>1788</td>\n",
       "      <td>James Armstrong</td>\n",
       "      <td>Georgia</td>\n",
       "      <td>N</td>\n",
       "      <td>Federalist</td>\n",
       "      <td>F</td>\n",
       "      <td>0</td>\n",
       "      <td>0.0</td>\n",
       "      <td>1</td>\n",
       "      <td>1.45</td>\n",
       "    </tr>\n",
       "  </tbody>\n",
       "</table>\n",
       "</div>"
      ],
      "text/plain": [
       "   ElectionYear       CandidateName       HomeState Incumbent?  \\\n",
       "0          1788   George Washington        Virginia          N   \n",
       "1          1788          John Adams   Massachusetts          N   \n",
       "2          1788            John Jay        New York          N   \n",
       "3          1788  Robert H. Harrison        Maryland          N   \n",
       "4          1788       John Rutledge  South Carolina          N   \n",
       "5          1788        John Hancock   Massachusetts          N   \n",
       "6          1788      George Clinton        New York          N   \n",
       "7          1788   Samuel Huntington     Connecticut          N   \n",
       "8          1788         John Milton         Georgia          N   \n",
       "9          1788     James Armstrong         Georgia          N   \n",
       "\n",
       "         CandParty CandPartyAbbrev PopularVote  PopVoteShare  ElectoralVotes  \\\n",
       "0      Independent               I      39,624         100.0              69   \n",
       "1       Federalist               F           0           0.0              34   \n",
       "2       Federalist               F           0           0.0               9   \n",
       "3       Federalist               F           0           0.0               6   \n",
       "4       Federalist               F           0           0.0               6   \n",
       "5       Federalist               F           0           0.0               4   \n",
       "6  Anti-Federalist              AF           0           0.0               3   \n",
       "7       Federalist               F           0           0.0               2   \n",
       "8       Federalist               F           0           0.0               2   \n",
       "9       Federalist               F           0           0.0               1   \n",
       "\n",
       "   ElecVoteShare  \n",
       "0         100.00  \n",
       "1          49.28  \n",
       "2          13.04  \n",
       "3           8.70  \n",
       "4           8.70  \n",
       "5           5.80  \n",
       "6           4.35  \n",
       "7           2.90  \n",
       "8           2.90  \n",
       "9           1.45  "
      ]
     },
     "execution_count": 3,
     "metadata": {},
     "output_type": "execute_result"
    }
   ],
   "source": [
    "results = pd.read_csv(\"../analysis/election_results.csv\")\n",
    "\n",
    "def process_percent_string(string):\n",
    "    string = string.replace(\"%\", \"\")\n",
    "    num = float(string)\n",
    "    return num\n",
    "\n",
    "results[\"PopVoteShare\"] = results[\"PopVoteShare\"].apply(process_percent_string)\n",
    "results[\"ElecVoteShare\"] = results[\"ElecVoteShare\"].apply(process_percent_string)\n",
    "\n",
    "results.head(10)"
   ]
  },
  {
   "cell_type": "code",
   "execution_count": 4,
   "metadata": {},
   "outputs": [
    {
     "name": "stdout",
     "output_type": "stream",
     "text": [
      "The percentage of presidents that won the election that were incumbent, including the first time they ran, was 0.5789473684210527\n"
     ]
    },
    {
     "name": "stderr",
     "output_type": "stream",
     "text": [
      "/tmp/ipykernel_978/1743483957.py:1: UserWarning: Boolean Series key will be reindexed to match DataFrame index.\n",
      "  incumbent = results[results[\"Incumbent?\"] == \"Y\"]\\\n"
     ]
    }
   ],
   "source": [
    "incumbent = results[results[\"Incumbent?\"] == \"Y\"]\\\n",
    "        [results[\"ElecVoteShare\"] > 50]['ElecVoteShare'].count()\n",
    "nonincumbent = results[results[\"ElecVoteShare\"] > 50][\"ElecVoteShare\"].count()\n",
    "incumbent_rate = incumbent/(nonincumbent - incumbent)\n",
    "print(\"The percentage of presidents that won the election that were incumbent, including the first time they ran, was\", incumbent_rate)"
   ]
  },
  {
   "cell_type": "code",
   "execution_count": 5,
   "metadata": {},
   "outputs": [
    {
     "name": "stdout",
     "output_type": "stream",
     "text": [
      "The percentage of canadites that won the popular vote and the electoral vote compared to those that only won the popular vote was 0.9523809523809523\n"
     ]
    },
    {
     "name": "stderr",
     "output_type": "stream",
     "text": [
      "/tmp/ipykernel_978/1530240933.py:1: UserWarning: Boolean Series key will be reindexed to match DataFrame index.\n",
      "  high_votes = results[results[\"PopVoteShare\"] > 50]\\\n"
     ]
    }
   ],
   "source": [
    "high_votes = results[results[\"PopVoteShare\"] > 50]\\\n",
    "    [results[\"ElecVoteShare\"] > 50][\"ElecVoteShare\"].count()\n",
    "total_high_pop = results[results[\"PopVoteShare\"] > 50][\"ElecVoteShare\"].count()\n",
    "percent = high_votes/total_high_pop\n",
    "print(\"The percentage of canadites that won the popular vote and the electoral vote compared to those that only won the popular vote was\", percent)"
   ]
  },
  {
   "cell_type": "code",
   "execution_count": 27,
   "metadata": {},
   "outputs": [
    {
     "data": {
      "text/plain": [
       "<AxesSubplot:ylabel='CandParty'>"
      ]
     },
     "execution_count": 27,
     "metadata": {},
     "output_type": "execute_result"
    },
    {
     "data": {
      "image/png": "[encoded data removed]",
      "text/plain": [
       "<Figure size 432x288 with 1 Axes>"
      ]
     },
     "metadata": {},
     "output_type": "display_data"
    }
   ],
   "source": [
    "winners = results[results[\"ElecVoteShare\"] > 50][\"CandParty\"]\n",
    "winners_count = winners.value_counts()\n",
    "winners_count.plot(kind='pie', fontsize=15)"
   ]
  },
  {
   "cell_type": "code",
   "execution_count": null,
   "metadata": {},
   "outputs": [],
   "source": []
  },
  {
   "cell_type": "code",
   "execution_count": 28,
   "metadata": {},
   "outputs": [
    {
     "data": {
      "text/plain": [
       "<AxesSubplot:ylabel='HomeState'>"
      ]
     },
     "execution_count": 28,
     "metadata": {},
     "output_type": "execute_result"
    },
    {
     "data": {
      "image/png": "[encoded data removed]",
      "text/plain": [
       "<Figure size 432x288 with 1 Axes>"
      ]
     },
     "metadata": {},
     "output_type": "display_data"
    }
   ],
   "source": [
    "many_votes = results[results[\"PopVoteShare\"] > 50][\"HomeState\"]\n",
    "count = many_votes.value_counts()\n",
    "count.plot(kind='pie', fontsize=15)"
   ]
  },
  {
   "cell_type": "code",
   "execution_count": null,
   "metadata": {},
   "outputs": [],
   "source": []
  }
 ],
 "metadata": {
  "interpreter": {
   "hash": "625c31d6b4db3d7e7e2853cc30dc2062e1cda684f3e49d5f899ae496ae755fe0"
  },
  "kernelspec": {
   "display_name": "Python 3.8.12 64-bit ('3.8.12': pyenv)",
   "name": "python3"
  },
  "language_info": {
   "codemirror_mode": {
    "name": "ipython",
    "version": 3
   },
   "file_extension": ".py",
   "mimetype": "text/x-python",
   "name": "python",
   "nbconvert_exporter": "python",
   "pygments_lexer": "ipython3",
   "version": "3.8.12"
  },
  "orig_nbformat": 4
 },
 "nbformat": 4,
 "nbformat_minor": 2
}
