{
 "cells": [
  {
   "cell_type": "code",
   "execution_count": 1,
   "metadata": {},
   "outputs": [],
   "source": [
    "import numpy as np\n",
    "import pandas as pd\n",
    "import matplotlib"
   ]
  },
  {
   "cell_type": "code",
   "execution_count": 2,
   "metadata": {},
   "outputs": [
    {
     "ename": "SyntaxError",
     "evalue": "invalid syntax (2942147785.py, line 1)",
     "output_type": "error",
     "traceback": [
      "\u001b[0;36m  File \u001b[0;32m\"/tmp/ipykernel_985/2942147785.py\"\u001b[0;36m, line \u001b[0;32m1\u001b[0m\n\u001b[0;31m    1. I predict that being incumbent (being president at the time of the election) would have a correlation with an increase of electoral votes earned\u001b[0m\n\u001b[0m       ^\u001b[0m\n\u001b[0;31mSyntaxError\u001b[0m\u001b[0;31m:\u001b[0m invalid syntax\n"
     ]
    }
   ],
   "source": [
    "1. I predict that being incumbent (being president at the time of the election) would have a correlation with an increase of electoral votes earned\n",
    "2. Having a higher percentage in the popular vote probably means a higher percentage in the electoral vote.\n",
    "3. Being from one of the major parties (democrat, republican, or whatever was the dominant party at the time) probably means more votes.\n",
    "4. If this is not the canadites first time running, they will get more votes.\n",
    "5. Canadites from certain states will receive more votes than those from other states. \n",
    "6. Canadites from certain parties were likely to receive less votes. \n",
    "7. The year of the election affects the number of votes in the popular vote. \n",
    "8. The percentage of popular votes goes up when the number of popular votes is higher.\n",
    "9. The percentage of electoral votes goes up when the number of electoral votes is higher.\n",
    "10. The abbreviation of the canadite's party depends on the party that they are in.\n",
    "(As you can tell, I ran out of ideas,)"
   ]
  },
  {
   "cell_type": "code",
   "execution_count": null,
   "metadata": {},
   "outputs": [],
   "source": []
  }
 ],
 "metadata": {
  "interpreter": {
   "hash": "625c31d6b4db3d7e7e2853cc30dc2062e1cda684f3e49d5f899ae496ae755fe0"
  },
  "kernelspec": {
   "display_name": "Python 3.8.12 64-bit ('3.8.12': pyenv)",
   "name": "python3"
  },
  "language_info": {
   "codemirror_mode": {
    "name": "ipython",
    "version": 3
   },
   "file_extension": ".py",
   "mimetype": "text/x-python",
   "name": "python",
   "nbconvert_exporter": "python",
   "pygments_lexer": "ipython3",
   "version": "3.8.12"
  },
  "orig_nbformat": 4
 },
 "nbformat": 4,
 "nbformat_minor": 2
}
